{
  "nbformat": 4,
  "nbformat_minor": 0,
  "metadata": {
    "colab": {
      "provenance": [],
      "collapsed_sections": []
    },
    "kernelspec": {
      "name": "python3",
      "display_name": "Python 3"
    },
    "language_info": {
      "name": "python"
    }
  },
  "cells": [
    {
      "cell_type": "markdown",
      "source": [
        "> **A2: Python Exercises**\n",
        "\n",
        "---\n",
        "\n",
        "\n",
        "\n",
        "Debanhy Alvarado Rivera 1914796 \n",
        "\n",
        "---\n",
        "\n",
        "\n",
        "Class 1, Tuesday N4\n",
        "\n",
        "---\n",
        "\n",
        "\n"
      ],
      "metadata": {
        "id": "CT47f1CqFlDb"
      }
    },
    {
      "cell_type": "code",
      "execution_count": 9,
      "metadata": {
        "id": "tJMs6gs4E0rM",
        "colab": {
          "base_uri": "https://localhost:8080/"
        },
        "outputId": "5116b7ff-6e7a-4813-a030-2c085236fec2"
      },
      "outputs": [
        {
          "output_type": "stream",
          "name": "stdout",
          "text": [
            "Enter your name: John\n",
            "Invalid name\n"
          ]
        }
      ],
      "source": [
        "name = str(input(\"Enter your name: \"))\n",
        "if name == (\"Ana\"):\n",
        "  print(\"Invalid name\")\n",
        "elif name == (\"John\"):\n",
        "  print(\"Invalid name\")\n",
        "elif name == (\"Peter\"):\n",
        "  print(\"Invalid name\")\n",
        "else:\n",
        "  print(\"Hello, \", name)"
      ]
    },
    {
      "cell_type": "code",
      "source": [
        "def mf(elm1, elm2, elm3, elm4):\n",
        "  print(\"The last element is \" + elm4)\n",
        "mf(elm1 = \"Jennie\", elm2 = \"Lisa\", elm3 = \"Rose\", elm4 = \"Jisso\")\n",
        "\n",
        "print()\n",
        "\n",
        "def function(lst):\n",
        "  print(lst[-1])\n",
        "  for x in range(len(lst)):\n",
        "    print(lst[x])\n",
        "\n",
        "List = [\"Jennie\", \"Lisa\", \"Rose\", \"Jisso\"]\n",
        "function(List)"
      ],
      "metadata": {
        "id": "7zIKPWSGtQxb",
        "colab": {
          "base_uri": "https://localhost:8080/"
        },
        "outputId": "82487df1-2577-4121-9c4a-3c679869dd18"
      },
      "execution_count": 10,
      "outputs": [
        {
          "output_type": "stream",
          "name": "stdout",
          "text": [
            "The last element is Jisso\n",
            "\n",
            "Jisso\n",
            "Jennie\n",
            "Lisa\n",
            "Rose\n",
            "Jisso\n"
          ]
        }
      ]
    },
    {
      "cell_type": "code",
      "source": [
        "def txt_in_frame(*words):\n",
        "  size = max(len(word) for word in words)\n",
        "  print(\"*\" * (size + 4))\n",
        "  for word in words:\n",
        "    print(\"*  {:<{}} * \".format(word, size))\n",
        "  print(\"*\"*(size + 4))\n",
        "\n",
        "txt_in_frame(\"Hello\", \"My\", \"Name\", \"Is\", \"Debanhy\")"
      ],
      "metadata": {
        "colab": {
          "base_uri": "https://localhost:8080/"
        },
        "id": "mm_QAKdwCyGz",
        "outputId": "6a786e30-65ef-4abe-d295-3190d14433e6"
      },
      "execution_count": 2,
      "outputs": [
        {
          "output_type": "stream",
          "name": "stdout",
          "text": [
            "***********\n",
            "*  Hello   * \n",
            "*  My      * \n",
            "*  Name    * \n",
            "*  Is      * \n",
            "*  Debanhy * \n",
            "***********\n"
          ]
        }
      ]
    }
  ]
}